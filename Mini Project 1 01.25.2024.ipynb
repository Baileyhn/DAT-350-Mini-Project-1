{
 "cells": [
  {
   "cell_type": "code",
   "execution_count": 138,
   "metadata": {},
   "outputs": [],
   "source": [
    "#importing the library\n",
    "import pandas as pd\n",
    "\n",
    "import csv"
   ]
  },
  {
   "cell_type": "code",
   "execution_count": 139,
   "metadata": {},
   "outputs": [],
   "source": [
    "surveyDF = pd.read_csv(\"Made By Bailey - Customer Engagement Analysis.csv\")"
   ]
  },
  {
   "cell_type": "markdown",
   "metadata": {},
   "source": [
    "Question 1: What is the percentage of males and females who answered the survey?"
   ]
  },
  {
   "cell_type": "code",
   "execution_count": 140,
   "metadata": {},
   "outputs": [],
   "source": [
    "#Had to get chatGPT to help me a few times with this function because\n",
    "#I kept getting the syntax wrong to check row[2].\n",
    "def getPercentMale():\n",
    "    with open(\"Made By Bailey - Customer Engagement Analysis.csv\") as csvFile:\n",
    "        openCSV = csv.reader(csvFile, delimiter= ',')\n",
    "        next(openCSV)\n",
    "        totalPeople = 0\n",
    "        totalMales = 0\n",
    "\n",
    "        for row in openCSV:\n",
    "            totalPeople = totalPeople + 1  \n",
    "            gender = row[2].strip()\n",
    "            if gender == \"Male\":\n",
    "                totalMales = totalMales + 1\n",
    "\n",
    "    return (totalMales/totalPeople) * 100"
   ]
  },
  {
   "cell_type": "code",
   "execution_count": 141,
   "metadata": {},
   "outputs": [],
   "source": [
    "def getPercentFemale():\n",
    "    with open(\"Made By Bailey - Customer Engagement Analysis.csv\") as csvFile:\n",
    "        openCSV = csv.reader(csvFile, delimiter= ',')\n",
    "        next(openCSV)\n",
    "        totalPeople = 0\n",
    "        totalFemales = 0\n",
    "\n",
    "        for row in openCSV:\n",
    "            totalPeople = totalPeople + 1  \n",
    "            gender = row[2].strip()\n",
    "            if gender == \"Female\":\n",
    "                totalFemales = totalFemales + 1\n",
    "\n",
    "    return (totalFemales/totalPeople) * 100"
   ]
  },
  {
   "cell_type": "markdown",
   "metadata": {},
   "source": [
    "Answer Question 1"
   ]
  },
  {
   "cell_type": "code",
   "execution_count": 142,
   "metadata": {},
   "outputs": [
    {
     "name": "stdout",
     "output_type": "stream",
     "text": [
      "60.86956521739131\n"
     ]
    }
   ],
   "source": [
    "print(getPercentMale())"
   ]
  },
  {
   "cell_type": "markdown",
   "metadata": {},
   "source": [
    "Answer Question 1"
   ]
  },
  {
   "cell_type": "code",
   "execution_count": 143,
   "metadata": {},
   "outputs": [
    {
     "name": "stdout",
     "output_type": "stream",
     "text": [
      "39.130434782608695\n"
     ]
    }
   ],
   "source": [
    "print(getPercentFemale())"
   ]
  },
  {
   "cell_type": "markdown",
   "metadata": {},
   "source": [
    "Question 2: What are the age percentages of the survey participants?"
   ]
  },
  {
   "cell_type": "code",
   "execution_count": 144,
   "metadata": {},
   "outputs": [],
   "source": [
    "def get18to20():\n",
    "    with open(\"Made By Bailey - Customer Engagement Analysis.csv\") as csvFile:\n",
    "        openCSV = csv.reader(csvFile, delimiter= ',')\n",
    "        next(openCSV)\n",
    "        totalPeople = 0\n",
    "        total18to20 = 0\n",
    "\n",
    "        for row in openCSV:\n",
    "            totalPeople = totalPeople + 1  \n",
    "            age = row[3].strip()\n",
    "            if age == \"18-20\":\n",
    "                total18to20 = total18to20 + 1\n",
    "\n",
    "    return (total18to20/totalPeople) * 100"
   ]
  },
  {
   "cell_type": "code",
   "execution_count": 145,
   "metadata": {},
   "outputs": [],
   "source": [
    "def get21to29():\n",
    "    with open(\"Made By Bailey - Customer Engagement Analysis.csv\") as csvFile:\n",
    "        openCSV = csv.reader(csvFile, delimiter= ',')\n",
    "        next(openCSV)\n",
    "        totalPeople = 0\n",
    "        total21to29 = 0\n",
    "\n",
    "        for row in openCSV:\n",
    "            totalPeople = totalPeople + 1  \n",
    "            age = row[3].strip()\n",
    "            if age == \"21-29\":\n",
    "                total21to29 = total21to29 + 1\n",
    "\n",
    "    return (total21to29/totalPeople) * 100"
   ]
  },
  {
   "cell_type": "code",
   "execution_count": 146,
   "metadata": {},
   "outputs": [],
   "source": [
    "def get30to39():\n",
    "    with open(\"Made By Bailey - Customer Engagement Analysis.csv\") as csvFile:\n",
    "        openCSV = csv.reader(csvFile, delimiter= ',')\n",
    "        next(openCSV)\n",
    "        totalPeople = 0\n",
    "        total30to39 = 0\n",
    "\n",
    "        for row in openCSV:\n",
    "            totalPeople = totalPeople + 1  \n",
    "            age = row[3].strip()\n",
    "            if age == \"30-39\":\n",
    "                total30to39 = total30to39 + 1\n",
    "\n",
    "    return (total30to39/totalPeople) * 100"
   ]
  },
  {
   "cell_type": "code",
   "execution_count": 147,
   "metadata": {},
   "outputs": [],
   "source": [
    "def get40to49():\n",
    "    with open(\"Made By Bailey - Customer Engagement Analysis.csv\") as csvFile:\n",
    "        openCSV = csv.reader(csvFile, delimiter= ',')\n",
    "        next(openCSV)\n",
    "        totalPeople = 0\n",
    "        total40to49 = 0\n",
    "\n",
    "        for row in openCSV:\n",
    "            totalPeople = totalPeople + 1  \n",
    "            age = row[3].strip()\n",
    "            if age == \"40-49\":\n",
    "                total40to49 = total40to49 + 1\n",
    "\n",
    "    return (total40to49/totalPeople) * 100"
   ]
  },
  {
   "cell_type": "code",
   "execution_count": 148,
   "metadata": {},
   "outputs": [],
   "source": [
    "def get50to59():\n",
    "    with open(\"Made By Bailey - Customer Engagement Analysis.csv\") as csvFile:\n",
    "        openCSV = csv.reader(csvFile, delimiter= ',')\n",
    "        next(openCSV)\n",
    "        totalPeople = 0\n",
    "        total50to59 = 0\n",
    "\n",
    "        for row in openCSV:\n",
    "            totalPeople = totalPeople + 1  \n",
    "            age = row[3].strip()\n",
    "            if age == \"50-59\":\n",
    "                total50to59 = total50to59 + 1\n",
    "\n",
    "    return (total50to59/totalPeople) * 100"
   ]
  },
  {
   "cell_type": "code",
   "execution_count": 149,
   "metadata": {},
   "outputs": [],
   "source": [
    "def get60plus():\n",
    "    with open(\"Made By Bailey - Customer Engagement Analysis.csv\") as csvFile:\n",
    "        openCSV = csv.reader(csvFile, delimiter= ',')\n",
    "        next(openCSV)\n",
    "        totalPeople = 0\n",
    "        total60plus = 0\n",
    "\n",
    "        for row in openCSV:\n",
    "            totalPeople = totalPeople + 1  \n",
    "            age = row[3].strip()\n",
    "            if age == \"60+\":\n",
    "                total60plus = total60plus + 1\n",
    "\n",
    "    return (total60plus/totalPeople) * 100"
   ]
  },
  {
   "cell_type": "markdown",
   "metadata": {},
   "source": [
    "Answer Question 2"
   ]
  },
  {
   "cell_type": "code",
   "execution_count": 150,
   "metadata": {},
   "outputs": [
    {
     "name": "stdout",
     "output_type": "stream",
     "text": [
      "17.391304347826086\n"
     ]
    }
   ],
   "source": [
    "print(get18to20())"
   ]
  },
  {
   "cell_type": "code",
   "execution_count": 151,
   "metadata": {},
   "outputs": [
    {
     "ename": "SyntaxError",
     "evalue": "invalid syntax (2164902953.py, line 1)",
     "output_type": "error",
     "traceback": [
      "\u001b[1;36m  Cell \u001b[1;32mIn[151], line 1\u001b[1;36m\u001b[0m\n\u001b[1;33m    Answer Question 2\u001b[0m\n\u001b[1;37m           ^\u001b[0m\n\u001b[1;31mSyntaxError\u001b[0m\u001b[1;31m:\u001b[0m invalid syntax\n"
     ]
    }
   ],
   "source": [
    "Answer Question 2"
   ]
  },
  {
   "cell_type": "code",
   "execution_count": null,
   "metadata": {},
   "outputs": [
    {
     "name": "stdout",
     "output_type": "stream",
     "text": [
      "85.71428571428571\n"
     ]
    }
   ],
   "source": [
    "print(get21to29())"
   ]
  },
  {
   "cell_type": "markdown",
   "metadata": {},
   "source": [
    "Answer Question 2"
   ]
  },
  {
   "cell_type": "code",
   "execution_count": null,
   "metadata": {},
   "outputs": [
    {
     "name": "stdout",
     "output_type": "stream",
     "text": [
      "0.0\n"
     ]
    }
   ],
   "source": [
    "print(get30to39())"
   ]
  },
  {
   "cell_type": "code",
   "execution_count": null,
   "metadata": {},
   "outputs": [],
   "source": [
    "Answer Question 2"
   ]
  },
  {
   "cell_type": "code",
   "execution_count": null,
   "metadata": {},
   "outputs": [
    {
     "name": "stdout",
     "output_type": "stream",
     "text": [
      "7.142857142857142\n"
     ]
    }
   ],
   "source": [
    "print(get40to49())"
   ]
  },
  {
   "cell_type": "code",
   "execution_count": null,
   "metadata": {},
   "outputs": [],
   "source": [
    "Answer Question 2"
   ]
  },
  {
   "cell_type": "code",
   "execution_count": null,
   "metadata": {},
   "outputs": [
    {
     "name": "stdout",
     "output_type": "stream",
     "text": [
      "0.0\n"
     ]
    }
   ],
   "source": [
    "print(get50to59())"
   ]
  },
  {
   "cell_type": "code",
   "execution_count": null,
   "metadata": {},
   "outputs": [],
   "source": [
    "Answer Question 2"
   ]
  },
  {
   "cell_type": "code",
   "execution_count": null,
   "metadata": {},
   "outputs": [
    {
     "name": "stdout",
     "output_type": "stream",
     "text": [
      "0.0\n"
     ]
    }
   ],
   "source": [
    "print(get60plus())"
   ]
  },
  {
   "cell_type": "markdown",
   "metadata": {},
   "source": []
  },
  {
   "cell_type": "markdown",
   "metadata": {},
   "source": [
    "Question 3: What are the percentages for each employment status?"
   ]
  },
  {
   "cell_type": "code",
   "execution_count": null,
   "metadata": {},
   "outputs": [],
   "source": [
    "def getStudent():\n",
    "    with open(\"Made By Bailey - Customer Engagement Analysis.csv\") as csvFile:\n",
    "        openCSV = csv.reader(csvFile, delimiter= ',')\n",
    "        next(openCSV)\n",
    "        totalPeople = 0\n",
    "        totalAnswers = 0\n",
    "\n",
    "        for row in openCSV:\n",
    "            totalPeople = totalPeople + 1  \n",
    "            answer = row[4].strip()\n",
    "            if answer == \"Student\":\n",
    "                totalAnswers = totalAnswers + 1\n",
    "\n",
    "    return (totalAnswers/totalPeople) * 100"
   ]
  },
  {
   "cell_type": "code",
   "execution_count": null,
   "metadata": {},
   "outputs": [],
   "source": [
    "def getEmployed():\n",
    "    with open(\"Made By Bailey - Customer Engagement Analysis.csv\") as csvFile:\n",
    "        openCSV = csv.reader(csvFile, delimiter= ',')\n",
    "        next(openCSV)\n",
    "        totalPeople = 0\n",
    "        totalAnswers = 0\n",
    "\n",
    "        for row in openCSV:\n",
    "            totalPeople = totalPeople + 1  \n",
    "            answer = row[4].strip()\n",
    "            if answer == \"Employed\":\n",
    "                totalAnswers = totalAnswers + 1\n",
    "\n",
    "    return (totalAnswers/totalPeople) * 100"
   ]
  },
  {
   "cell_type": "code",
   "execution_count": null,
   "metadata": {},
   "outputs": [],
   "source": [
    "def getSelfEmployed():\n",
    "    with open(\"Made By Bailey - Customer Engagement Analysis.csv\") as csvFile:\n",
    "        openCSV = csv.reader(csvFile, delimiter= ',')\n",
    "        next(openCSV)\n",
    "        totalPeople = 0\n",
    "        totalAnswers = 0\n",
    "\n",
    "        for row in openCSV:\n",
    "            totalPeople = totalPeople + 1  \n",
    "            answer = row[4].strip()\n",
    "            if answer == \"Self-employed\":\n",
    "                totalAnswers = totalAnswers + 1\n",
    "\n",
    "    return (totalAnswers/totalPeople) * 100"
   ]
  },
  {
   "cell_type": "code",
   "execution_count": null,
   "metadata": {},
   "outputs": [],
   "source": [
    "def getUnemployed():\n",
    "    with open(\"Made By Bailey - Customer Engagement Analysis.csv\") as csvFile:\n",
    "        openCSV = csv.reader(csvFile, delimiter= ',')\n",
    "        next(openCSV)\n",
    "        totalPeople = 0\n",
    "        totalAnswers = 0\n",
    "\n",
    "        for row in openCSV:\n",
    "            totalPeople = totalPeople + 1  \n",
    "            answer = row[4].strip()\n",
    "            if answer == \"Unemployed\":\n",
    "                totalAnswers = totalAnswers + 1\n",
    "\n",
    "    return (totalAnswers/totalPeople) * 100"
   ]
  },
  {
   "cell_type": "code",
   "execution_count": null,
   "metadata": {},
   "outputs": [],
   "source": [
    "def getRetired():\n",
    "    with open(\"Made By Bailey - Customer Engagement Analysis.csv\") as csvFile:\n",
    "        openCSV = csv.reader(csvFile, delimiter= ',')\n",
    "        next(openCSV)\n",
    "        totalPeople = 0\n",
    "        totalAnswers = 0\n",
    "\n",
    "        for row in openCSV:\n",
    "            totalPeople = totalPeople + 1  \n",
    "            answer = row[4].strip()\n",
    "            if answer == \"Retired\":\n",
    "                totalAnswers = totalAnswers + 1\n",
    "\n",
    "    return (totalAnswers/totalPeople) * 100"
   ]
  },
  {
   "cell_type": "markdown",
   "metadata": {},
   "source": [
    "Answer Question 3"
   ]
  },
  {
   "cell_type": "code",
   "execution_count": null,
   "metadata": {},
   "outputs": [
    {
     "name": "stdout",
     "output_type": "stream",
     "text": [
      "71.42857142857143\n"
     ]
    }
   ],
   "source": [
    "print(getStudent())"
   ]
  },
  {
   "cell_type": "markdown",
   "metadata": {},
   "source": [
    "Answer Question 3"
   ]
  },
  {
   "cell_type": "code",
   "execution_count": null,
   "metadata": {},
   "outputs": [
    {
     "name": "stdout",
     "output_type": "stream",
     "text": [
      "28.57142857142857\n"
     ]
    }
   ],
   "source": [
    "print(getEmployed())"
   ]
  },
  {
   "cell_type": "markdown",
   "metadata": {},
   "source": [
    "Answer Question 3"
   ]
  },
  {
   "cell_type": "code",
   "execution_count": null,
   "metadata": {},
   "outputs": [
    {
     "name": "stdout",
     "output_type": "stream",
     "text": [
      "0.0\n"
     ]
    }
   ],
   "source": [
    "print(getSelfEmployed())"
   ]
  },
  {
   "cell_type": "markdown",
   "metadata": {},
   "source": [
    "Answer Question 3"
   ]
  },
  {
   "cell_type": "code",
   "execution_count": null,
   "metadata": {},
   "outputs": [
    {
     "name": "stdout",
     "output_type": "stream",
     "text": [
      "0.0\n"
     ]
    }
   ],
   "source": [
    "print(getUnemployed())"
   ]
  },
  {
   "cell_type": "markdown",
   "metadata": {},
   "source": [
    "Answer Question 3"
   ]
  },
  {
   "cell_type": "code",
   "execution_count": null,
   "metadata": {},
   "outputs": [
    {
     "name": "stdout",
     "output_type": "stream",
     "text": [
      "0.0\n"
     ]
    }
   ],
   "source": [
    "print(getRetired())"
   ]
  },
  {
   "cell_type": "markdown",
   "metadata": {},
   "source": [
    "Question 4: What percentage of people have purchased or not purchsed from a small business?"
   ]
  },
  {
   "cell_type": "code",
   "execution_count": null,
   "metadata": {},
   "outputs": [],
   "source": [
    "def getYesSupport():\n",
    "    with open(\"Made By Bailey - Customer Engagement Analysis.csv\") as csvFile:\n",
    "        openCSV = csv.reader(csvFile, delimiter= ',')\n",
    "        next(openCSV)\n",
    "        totalPeople = 0\n",
    "        totalAnswers = 0\n",
    "\n",
    "        for row in openCSV:\n",
    "            totalPeople = totalPeople + 1  \n",
    "            answer = row[5].strip()\n",
    "            if answer == \"Yes\":\n",
    "                totalAnswers = totalAnswers + 1\n",
    "\n",
    "    return (totalAnswers/totalPeople) * 100"
   ]
  },
  {
   "cell_type": "code",
   "execution_count": null,
   "metadata": {},
   "outputs": [],
   "source": [
    "def getNoSupport():\n",
    "    with open(\"Made By Bailey - Customer Engagement Analysis.csv\") as csvFile:\n",
    "        openCSV = csv.reader(csvFile, delimiter= ',')\n",
    "        next(openCSV)\n",
    "        totalPeople = 0\n",
    "        totalAnswers = 0\n",
    "\n",
    "        for row in openCSV:\n",
    "            totalPeople = totalPeople + 1  \n",
    "            answer = row[5].strip()\n",
    "            if answer == \"No\":\n",
    "                totalAnswers = totalAnswers + 1\n",
    "\n",
    "    return (totalAnswers/totalPeople) * 100"
   ]
  },
  {
   "cell_type": "markdown",
   "metadata": {},
   "source": [
    "Answer Question 4"
   ]
  },
  {
   "cell_type": "code",
   "execution_count": null,
   "metadata": {},
   "outputs": [
    {
     "name": "stdout",
     "output_type": "stream",
     "text": [
      "71.42857142857143\n"
     ]
    }
   ],
   "source": [
    "print(getYesSupport())"
   ]
  },
  {
   "cell_type": "markdown",
   "metadata": {},
   "source": [
    "Answer Question 4"
   ]
  },
  {
   "cell_type": "code",
   "execution_count": null,
   "metadata": {},
   "outputs": [
    {
     "name": "stdout",
     "output_type": "stream",
     "text": [
      "28.57142857142857\n"
     ]
    }
   ],
   "source": [
    "print(getNoSupport())"
   ]
  },
  {
   "cell_type": "markdown",
   "metadata": {},
   "source": [
    "Question 5: For each type of product what is the percentage of people who said they would purchase it?"
   ]
  },
  {
   "cell_type": "code",
   "execution_count": null,
   "metadata": {},
   "outputs": [],
   "source": [
    "def getMugRugs():\n",
    "    with open(\"Made By Bailey - Customer Engagement Analysis.csv\") as csvFile:\n",
    "        openCSV = csv.reader(csvFile, delimiter= ',')\n",
    "        next(openCSV)\n",
    "        totalPeople = 0\n",
    "        totalAnswers = 0\n",
    "\n",
    "        for row in openCSV:\n",
    "            totalPeople = totalPeople + 1\n",
    "            #The following 2 lines came from chatGPT\n",
    "            answer = [answer.strip() for answer in row[6].split(';')]\n",
    "            if \"Mug Rugs\" in answer:\n",
    "                totalAnswers = totalAnswers + 1\n",
    "\n",
    "    return (totalAnswers/totalPeople) * 100"
   ]
  },
  {
   "cell_type": "code",
   "execution_count": null,
   "metadata": {},
   "outputs": [],
   "source": [
    "def getCarCoasters():\n",
    "    with open(\"Made By Bailey - Customer Engagement Analysis.csv\") as csvFile:\n",
    "        openCSV = csv.reader(csvFile, delimiter= ',')\n",
    "        next(openCSV)\n",
    "        totalPeople = 0\n",
    "        totalAnswers = 0\n",
    "\n",
    "        for row in openCSV:\n",
    "            totalPeople = totalPeople + 1  \n",
    "            answer = [answer.strip() for answer in row[6].split(';')]\n",
    "            if \"Car Coasters\" in answer:\n",
    "                totalAnswers = totalAnswers + 1\n",
    "\n",
    "    return (totalAnswers/totalPeople) * 100"
   ]
  },
  {
   "cell_type": "code",
   "execution_count": null,
   "metadata": {},
   "outputs": [],
   "source": [
    "def getCardCoasters():\n",
    "    with open(\"Made By Bailey - Customer Engagement Analysis.csv\") as csvFile:\n",
    "        openCSV = csv.reader(csvFile, delimiter= ',')\n",
    "        next(openCSV)\n",
    "        totalPeople = 0\n",
    "        totalAnswers = 0\n",
    "\n",
    "        for row in openCSV:\n",
    "            totalPeople = totalPeople + 1  \n",
    "            answer = [answer.strip() for answer in row[6].split(';')]\n",
    "            if \"Card Coasters\" in answer:\n",
    "                totalAnswers = totalAnswers + 1\n",
    "\n",
    "    return (totalAnswers/totalPeople) * 100"
   ]
  },
  {
   "cell_type": "code",
   "execution_count": null,
   "metadata": {},
   "outputs": [],
   "source": [
    "def getToteBags():\n",
    "    with open(\"Made By Bailey - Customer Engagement Analysis.csv\") as csvFile:\n",
    "        openCSV = csv.reader(csvFile, delimiter= ',')\n",
    "        next(openCSV)\n",
    "        totalPeople = 0\n",
    "        totalAnswers = 0\n",
    "\n",
    "        for row in openCSV:\n",
    "            totalPeople = totalPeople + 1  \n",
    "            answer = [answer.strip() for answer in row[6].split(';')]\n",
    "            if \"Tote Bags\" in answer:\n",
    "                totalAnswers = totalAnswers + 1\n",
    "\n",
    "    return (totalAnswers/totalPeople) * 100"
   ]
  },
  {
   "cell_type": "code",
   "execution_count": null,
   "metadata": {},
   "outputs": [],
   "source": [
    "def getYarnCharmKeychains():\n",
    "    with open(\"Made By Bailey - Customer Engagement Analysis.csv\") as csvFile:\n",
    "        openCSV = csv.reader(csvFile, delimiter= ',')\n",
    "        next(openCSV)\n",
    "        totalPeople = 0\n",
    "        totalAnswers = 0\n",
    "\n",
    "        for row in openCSV:\n",
    "            totalPeople = totalPeople + 1  \n",
    "            answer = [answer.strip() for answer in row[6].split(';')]\n",
    "            if \"Yarn Charm Keychains\" in answer:\n",
    "                totalAnswers = totalAnswers + 1\n",
    "\n",
    "    return (totalAnswers/totalPeople) * 100"
   ]
  },
  {
   "cell_type": "code",
   "execution_count": null,
   "metadata": {},
   "outputs": [],
   "source": [
    "def getCartoonCoasters():\n",
    "    with open(\"Made By Bailey - Customer Engagement Analysis.csv\") as csvFile:\n",
    "        openCSV = csv.reader(csvFile, delimiter= ',')\n",
    "        next(openCSV)\n",
    "        totalPeople = 0\n",
    "        totalAnswers = 0\n",
    "\n",
    "        for row in openCSV:\n",
    "            totalPeople = totalPeople + 1  \n",
    "            answer = [answer.strip() for answer in row[6].split(';')]\n",
    "            if \"Cartoon Coasters\" in answer:\n",
    "                totalAnswers = totalAnswers + 1\n",
    "\n",
    "    return (totalAnswers/totalPeople) * 100"
   ]
  },
  {
   "cell_type": "code",
   "execution_count": null,
   "metadata": {},
   "outputs": [],
   "source": [
    "def getCanvasCreations():\n",
    "    with open(\"Made By Bailey - Customer Engagement Analysis.csv\") as csvFile:\n",
    "        openCSV = csv.reader(csvFile, delimiter= ',')\n",
    "        next(openCSV)\n",
    "        totalPeople = 0\n",
    "        totalAnswers = 0\n",
    "\n",
    "        for row in openCSV:\n",
    "            totalPeople = totalPeople + 1  \n",
    "            answer = [answer.strip() for answer in row[6].split(';')]\n",
    "            if \"Canvas Creations\" in answer:\n",
    "                totalAnswers = totalAnswers + 1\n",
    "\n",
    "    return (totalAnswers/totalPeople) * 100"
   ]
  },
  {
   "cell_type": "markdown",
   "metadata": {},
   "source": [
    "Answer Question 5"
   ]
  },
  {
   "cell_type": "code",
   "execution_count": null,
   "metadata": {},
   "outputs": [
    {
     "name": "stdout",
     "output_type": "stream",
     "text": [
      "35.714285714285715\n"
     ]
    }
   ],
   "source": [
    "print(getMugRugs())"
   ]
  },
  {
   "cell_type": "markdown",
   "metadata": {},
   "source": [
    "Answer Question 5"
   ]
  },
  {
   "cell_type": "code",
   "execution_count": null,
   "metadata": {},
   "outputs": [
    {
     "name": "stdout",
     "output_type": "stream",
     "text": [
      "28.57142857142857\n"
     ]
    }
   ],
   "source": [
    "print(getCarCoasters())"
   ]
  },
  {
   "cell_type": "markdown",
   "metadata": {},
   "source": [
    "Answer Question 5"
   ]
  },
  {
   "cell_type": "code",
   "execution_count": null,
   "metadata": {},
   "outputs": [
    {
     "name": "stdout",
     "output_type": "stream",
     "text": [
      "28.57142857142857\n"
     ]
    }
   ],
   "source": [
    "print(getCardCoasters())"
   ]
  },
  {
   "cell_type": "markdown",
   "metadata": {},
   "source": [
    "Answer Question 5"
   ]
  },
  {
   "cell_type": "code",
   "execution_count": null,
   "metadata": {},
   "outputs": [
    {
     "name": "stdout",
     "output_type": "stream",
     "text": [
      "42.857142857142854\n"
     ]
    }
   ],
   "source": [
    "print(getToteBags())"
   ]
  },
  {
   "cell_type": "markdown",
   "metadata": {},
   "source": [
    "Answer Question 5"
   ]
  },
  {
   "cell_type": "code",
   "execution_count": null,
   "metadata": {},
   "outputs": [
    {
     "name": "stdout",
     "output_type": "stream",
     "text": [
      "35.714285714285715\n"
     ]
    }
   ],
   "source": [
    "print(getYarnCharmKeychains())"
   ]
  },
  {
   "cell_type": "markdown",
   "metadata": {},
   "source": [
    "Answer Question 5"
   ]
  },
  {
   "cell_type": "code",
   "execution_count": null,
   "metadata": {},
   "outputs": [
    {
     "name": "stdout",
     "output_type": "stream",
     "text": [
      "35.714285714285715\n"
     ]
    }
   ],
   "source": [
    "print(getCartoonCoasters())"
   ]
  },
  {
   "cell_type": "markdown",
   "metadata": {},
   "source": [
    "Answer Question 5"
   ]
  },
  {
   "cell_type": "code",
   "execution_count": null,
   "metadata": {},
   "outputs": [
    {
     "name": "stdout",
     "output_type": "stream",
     "text": [
      "42.857142857142854\n"
     ]
    }
   ],
   "source": [
    "print(getCanvasCreations())"
   ]
  },
  {
   "cell_type": "markdown",
   "metadata": {},
   "source": [
    "Question 6: What percentage of people selected each price option?"
   ]
  },
  {
   "cell_type": "code",
   "execution_count": null,
   "metadata": {},
   "outputs": [],
   "source": [
    "def getZero():\n",
    "    with open(\"Made By Bailey - Customer Engagement Analysis.csv\") as csvFile:\n",
    "        openCSV = csv.reader(csvFile, delimiter= ',')\n",
    "        next(openCSV)\n",
    "        totalPeople = 0\n",
    "        totalAnswers = 0\n",
    "\n",
    "        for row in openCSV:\n",
    "            totalPeople = totalPeople + 1  \n",
    "            answer = row[7].strip()\n",
    "            if answer == \"$0\":\n",
    "                totalAnswers = totalAnswers + 1\n",
    "\n",
    "    return (totalAnswers/totalPeople) * 100"
   ]
  },
  {
   "cell_type": "code",
   "execution_count": null,
   "metadata": {},
   "outputs": [],
   "source": [
    "def getFive():\n",
    "    with open(\"Made By Bailey - Customer Engagement Analysis.csv\") as csvFile:\n",
    "        openCSV = csv.reader(csvFile, delimiter= ',')\n",
    "        next(openCSV)\n",
    "        totalPeople = 0\n",
    "        totalAnswers = 0\n",
    "\n",
    "        for row in openCSV:\n",
    "            totalPeople = totalPeople + 1  \n",
    "            answer = row[7].strip()\n",
    "            if answer == \"$5\":\n",
    "                totalAnswers = totalAnswers + 1\n",
    "\n",
    "    return (totalAnswers/totalPeople) * 100"
   ]
  },
  {
   "cell_type": "code",
   "execution_count": null,
   "metadata": {},
   "outputs": [],
   "source": [
    "def getTen():\n",
    "    with open(\"Made By Bailey - Customer Engagement Analysis.csv\") as csvFile:\n",
    "        openCSV = csv.reader(csvFile, delimiter= ',')\n",
    "        next(openCSV)\n",
    "        totalPeople = 0\n",
    "        totalAnswers = 0\n",
    "\n",
    "        for row in openCSV:\n",
    "            totalPeople = totalPeople + 1  \n",
    "            answer = row[7].strip()\n",
    "            if answer == \"$10\":\n",
    "                totalAnswers = totalAnswers + 1\n",
    "\n",
    "    return (totalAnswers/totalPeople) * 100"
   ]
  },
  {
   "cell_type": "code",
   "execution_count": null,
   "metadata": {},
   "outputs": [],
   "source": [
    "def getFifteen():\n",
    "    with open(\"Made By Bailey - Customer Engagement Analysis.csv\") as csvFile:\n",
    "        openCSV = csv.reader(csvFile, delimiter= ',')\n",
    "        next(openCSV)\n",
    "        totalPeople = 0\n",
    "        totalAnswers = 0\n",
    "\n",
    "        for row in openCSV:\n",
    "            totalPeople = totalPeople + 1  \n",
    "            answer = row[7].strip()\n",
    "            if answer == \"$15\":\n",
    "                totalAnswers = totalAnswers + 1\n",
    "\n",
    "    return (totalAnswers/totalPeople) * 100"
   ]
  },
  {
   "cell_type": "code",
   "execution_count": null,
   "metadata": {},
   "outputs": [],
   "source": [
    "def getTwenty():\n",
    "    with open(\"Made By Bailey - Customer Engagement Analysis.csv\") as csvFile:\n",
    "        openCSV = csv.reader(csvFile, delimiter= ',')\n",
    "        next(openCSV)\n",
    "        totalPeople = 0\n",
    "        totalAnswers = 0\n",
    "\n",
    "        for row in openCSV:\n",
    "            totalPeople = totalPeople + 1  \n",
    "            answer = row[7].strip()\n",
    "            if answer == \"$20\":\n",
    "                totalAnswers = totalAnswers + 1\n",
    "\n",
    "    return (totalAnswers/totalPeople) * 100"
   ]
  },
  {
   "cell_type": "code",
   "execution_count": null,
   "metadata": {},
   "outputs": [],
   "source": [
    "def getThirty():\n",
    "    with open(\"Made By Bailey - Customer Engagement Analysis.csv\") as csvFile:\n",
    "        openCSV = csv.reader(csvFile, delimiter= ',')\n",
    "        next(openCSV)\n",
    "        totalPeople = 0\n",
    "        totalAnswers = 0\n",
    "\n",
    "        for row in openCSV:\n",
    "            totalPeople = totalPeople + 1  \n",
    "            answer = row[7].strip()\n",
    "            if answer == \"$30\":\n",
    "                totalAnswers = totalAnswers + 1\n",
    "\n",
    "    return (totalAnswers/totalPeople) * 100"
   ]
  },
  {
   "cell_type": "code",
   "execution_count": null,
   "metadata": {},
   "outputs": [],
   "source": [
    "def getFifty():\n",
    "    with open(\"Made By Bailey - Customer Engagement Analysis.csv\") as csvFile:\n",
    "        openCSV = csv.reader(csvFile, delimiter= ',')\n",
    "        next(openCSV)\n",
    "        totalPeople = 0\n",
    "        totalAnswers = 0\n",
    "\n",
    "        for row in openCSV:\n",
    "            totalPeople = totalPeople + 1  \n",
    "            answer = row[7].strip()\n",
    "            if answer == \"$50\":\n",
    "                totalAnswers = totalAnswers + 1\n",
    "\n",
    "    return (totalAnswers/totalPeople) * 100"
   ]
  },
  {
   "cell_type": "markdown",
   "metadata": {},
   "source": [
    "Answer Question 6"
   ]
  },
  {
   "cell_type": "code",
   "execution_count": null,
   "metadata": {},
   "outputs": [
    {
     "name": "stdout",
     "output_type": "stream",
     "text": [
      "7.142857142857142\n"
     ]
    }
   ],
   "source": [
    "print(getZero())"
   ]
  },
  {
   "cell_type": "markdown",
   "metadata": {},
   "source": [
    "Answer Question 6"
   ]
  },
  {
   "cell_type": "code",
   "execution_count": null,
   "metadata": {},
   "outputs": [
    {
     "name": "stdout",
     "output_type": "stream",
     "text": [
      "0.0\n"
     ]
    }
   ],
   "source": [
    "print(getFive())"
   ]
  },
  {
   "cell_type": "markdown",
   "metadata": {},
   "source": [
    "Answer Question 6"
   ]
  },
  {
   "cell_type": "code",
   "execution_count": null,
   "metadata": {},
   "outputs": [
    {
     "name": "stdout",
     "output_type": "stream",
     "text": [
      "28.57142857142857\n"
     ]
    }
   ],
   "source": [
    "print(getTen())"
   ]
  },
  {
   "cell_type": "markdown",
   "metadata": {},
   "source": [
    "Answer Question 6"
   ]
  },
  {
   "cell_type": "code",
   "execution_count": null,
   "metadata": {},
   "outputs": [
    {
     "name": "stdout",
     "output_type": "stream",
     "text": [
      "14.285714285714285\n"
     ]
    }
   ],
   "source": [
    "print(getFifteen())"
   ]
  },
  {
   "cell_type": "markdown",
   "metadata": {},
   "source": [
    "Answer Question 6"
   ]
  },
  {
   "cell_type": "code",
   "execution_count": null,
   "metadata": {},
   "outputs": [
    {
     "name": "stdout",
     "output_type": "stream",
     "text": [
      "21.428571428571427\n"
     ]
    }
   ],
   "source": [
    "print(getTwenty())"
   ]
  },
  {
   "cell_type": "markdown",
   "metadata": {},
   "source": [
    "Answer Question 6"
   ]
  },
  {
   "cell_type": "code",
   "execution_count": null,
   "metadata": {},
   "outputs": [
    {
     "name": "stdout",
     "output_type": "stream",
     "text": [
      "21.428571428571427\n"
     ]
    }
   ],
   "source": [
    "print(getThirty())"
   ]
  },
  {
   "cell_type": "markdown",
   "metadata": {},
   "source": [
    "Answer Question 6"
   ]
  },
  {
   "cell_type": "code",
   "execution_count": null,
   "metadata": {},
   "outputs": [
    {
     "name": "stdout",
     "output_type": "stream",
     "text": [
      "7.142857142857142\n"
     ]
    }
   ],
   "source": [
    "print(getFifty())"
   ]
  },
  {
   "cell_type": "markdown",
   "metadata": {},
   "source": [
    "Question 7: What percentage of people would prefer to purchase online? In-person?"
   ]
  },
  {
   "cell_type": "code",
   "execution_count": null,
   "metadata": {},
   "outputs": [],
   "source": [
    "def getOnline():\n",
    "    with open(\"Made By Bailey - Customer Engagement Analysis.csv\") as csvFile:\n",
    "        openCSV = csv.reader(csvFile, delimiter= ',')\n",
    "        next(openCSV)\n",
    "        totalPeople = 0\n",
    "        totalAnswers = 0\n",
    "\n",
    "        for row in openCSV:\n",
    "            totalPeople = totalPeople + 1  \n",
    "            answer = row[8].strip()\n",
    "            if answer == \"Online\":\n",
    "                totalAnswers = totalAnswers + 1\n",
    "\n",
    "    return (totalAnswers/totalPeople) * 100"
   ]
  },
  {
   "cell_type": "code",
   "execution_count": null,
   "metadata": {},
   "outputs": [],
   "source": [
    "def getInPerson():\n",
    "    with open(\"Made By Bailey - Customer Engagement Analysis.csv\") as csvFile:\n",
    "        openCSV = csv.reader(csvFile, delimiter= ',')\n",
    "        next(openCSV)\n",
    "        totalPeople = 0\n",
    "        totalAnswers = 0\n",
    "\n",
    "        for row in openCSV:\n",
    "            totalPeople = totalPeople + 1  \n",
    "            answer = row[8].strip()\n",
    "            if answer == \"In-person\":\n",
    "                totalAnswers = totalAnswers + 1\n",
    "\n",
    "    return (totalAnswers/totalPeople) * 100"
   ]
  },
  {
   "cell_type": "markdown",
   "metadata": {},
   "source": [
    "Answer Question 7"
   ]
  },
  {
   "cell_type": "code",
   "execution_count": null,
   "metadata": {},
   "outputs": [
    {
     "name": "stdout",
     "output_type": "stream",
     "text": [
      "35.714285714285715\n"
     ]
    }
   ],
   "source": [
    "print(getOnline())"
   ]
  },
  {
   "cell_type": "markdown",
   "metadata": {},
   "source": [
    "Answer Question 7"
   ]
  },
  {
   "cell_type": "code",
   "execution_count": null,
   "metadata": {},
   "outputs": [
    {
     "name": "stdout",
     "output_type": "stream",
     "text": [
      "64.28571428571429\n"
     ]
    }
   ],
   "source": [
    "print(getInPerson())"
   ]
  },
  {
   "cell_type": "markdown",
   "metadata": {},
   "source": [
    "Question 8: What is the reasons people decide to purchase fiber art and what are the percentages?"
   ]
  },
  {
   "cell_type": "code",
   "execution_count": null,
   "metadata": {},
   "outputs": [],
   "source": [
    "def getSupportBusiness():\n",
    "    with open(\"Made By Bailey - Customer Engagement Analysis.csv\") as csvFile:\n",
    "        openCSV = csv.reader(csvFile, delimiter= ',')\n",
    "        next(openCSV)\n",
    "        totalPeople = 0\n",
    "        totalAnswers = 0\n",
    "\n",
    "        for row in openCSV:\n",
    "            totalPeople = totalPeople + 1  \n",
    "            answer = row[9].strip()\n",
    "            if answer == \"Because I want to support a small business\":\n",
    "                totalAnswers = totalAnswers + 1\n",
    "\n",
    "    return (totalAnswers/totalPeople) * 100"
   ]
  },
  {
   "cell_type": "code",
   "execution_count": null,
   "metadata": {},
   "outputs": [],
   "source": [
    "def getPreviouslyPurchased():\n",
    "    with open(\"Made By Bailey - Customer Engagement Analysis.csv\") as csvFile:\n",
    "        openCSV = csv.reader(csvFile, delimiter= ',')\n",
    "        next(openCSV)\n",
    "        totalPeople = 0\n",
    "        totalAnswers = 0\n",
    "\n",
    "        for row in openCSV:\n",
    "            totalPeople = totalPeople + 1  \n",
    "            answer = row[9].strip()\n",
    "            if answer == \"Because I have previously purchased fiber/yarn art\":\n",
    "                totalAnswers = totalAnswers + 1\n",
    "\n",
    "    return (totalAnswers/totalPeople) * 100"
   ]
  },
  {
   "cell_type": "code",
   "execution_count": null,
   "metadata": {},
   "outputs": [],
   "source": [
    "def getAlsoSell():\n",
    "    with open(\"Made By Bailey - Customer Engagement Analysis.csv\") as csvFile:\n",
    "        openCSV = csv.reader(csvFile, delimiter= ',')\n",
    "        next(openCSV)\n",
    "        totalPeople = 0\n",
    "        totalAnswers = 0\n",
    "\n",
    "        for row in openCSV:\n",
    "            totalPeople = totalPeople + 1  \n",
    "            answer = row[9].strip()\n",
    "            if answer == \"Because I also sell fiber art\":\n",
    "                totalAnswers = totalAnswers + 1\n",
    "\n",
    "    return (totalAnswers/totalPeople) * 100"
   ]
  },
  {
   "cell_type": "code",
   "execution_count": null,
   "metadata": {},
   "outputs": [],
   "source": [
    "def getLookCool():\n",
    "    with open(\"Made By Bailey - Customer Engagement Analysis.csv\") as csvFile:\n",
    "        openCSV = csv.reader(csvFile, delimiter= ',')\n",
    "        next(openCSV)\n",
    "        totalPeople = 0\n",
    "        totalAnswers = 0\n",
    "\n",
    "        for row in openCSV:\n",
    "            totalPeople = totalPeople + 1  \n",
    "            answer = row[9].strip()\n",
    "            if answer == \"Because I think the products just look cool\":\n",
    "                totalAnswers = totalAnswers + 1\n",
    "\n",
    "    return (totalAnswers/totalPeople) * 100"
   ]
  },
  {
   "cell_type": "code",
   "execution_count": null,
   "metadata": {},
   "outputs": [],
   "source": [
    "def getWouldNotPurchase():\n",
    "    with open(\"Made By Bailey - Customer Engagement Analysis.csv\") as csvFile:\n",
    "        openCSV = csv.reader(csvFile, delimiter= ',')\n",
    "        next(openCSV)\n",
    "        totalPeople = 0\n",
    "        totalAnswers = 0\n",
    "\n",
    "        for row in openCSV:\n",
    "            totalPeople = totalPeople + 1  \n",
    "            answer = row[9].strip()\n",
    "            if answer == \"Personally I would not purchase\":\n",
    "                totalAnswers = totalAnswers + 1\n",
    "\n",
    "    return (totalAnswers/totalPeople) * 100"
   ]
  },
  {
   "cell_type": "markdown",
   "metadata": {},
   "source": [
    "Answer Question 8"
   ]
  },
  {
   "cell_type": "code",
   "execution_count": null,
   "metadata": {},
   "outputs": [
    {
     "name": "stdout",
     "output_type": "stream",
     "text": [
      "42.857142857142854\n"
     ]
    }
   ],
   "source": [
    "print(getSupportBusiness())"
   ]
  },
  {
   "cell_type": "markdown",
   "metadata": {},
   "source": [
    "Answer Question 8"
   ]
  },
  {
   "cell_type": "code",
   "execution_count": null,
   "metadata": {},
   "outputs": [
    {
     "name": "stdout",
     "output_type": "stream",
     "text": [
      "0.0\n"
     ]
    }
   ],
   "source": [
    "print(getPreviouslyPurchased())"
   ]
  },
  {
   "cell_type": "markdown",
   "metadata": {},
   "source": [
    "Answer Question 8"
   ]
  },
  {
   "cell_type": "code",
   "execution_count": null,
   "metadata": {},
   "outputs": [
    {
     "name": "stdout",
     "output_type": "stream",
     "text": [
      "0.0\n"
     ]
    }
   ],
   "source": [
    "print(getAlsoSell())"
   ]
  },
  {
   "cell_type": "markdown",
   "metadata": {},
   "source": [
    "Answer Question 8"
   ]
  },
  {
   "cell_type": "code",
   "execution_count": null,
   "metadata": {},
   "outputs": [
    {
     "name": "stdout",
     "output_type": "stream",
     "text": [
      "42.857142857142854\n"
     ]
    }
   ],
   "source": [
    "print(getLookCool())"
   ]
  },
  {
   "cell_type": "markdown",
   "metadata": {},
   "source": [
    "Answer Question 8"
   ]
  },
  {
   "cell_type": "code",
   "execution_count": null,
   "metadata": {},
   "outputs": [
    {
     "name": "stdout",
     "output_type": "stream",
     "text": [
      "7.142857142857142\n"
     ]
    }
   ],
   "source": [
    "print(getWouldNotPurchase())"
   ]
  },
  {
   "cell_type": "markdown",
   "metadata": {},
   "source": [
    "Question 9: What percentage of people believe $5 for is too much? too little? a good price?"
   ]
  },
  {
   "cell_type": "code",
   "execution_count": null,
   "metadata": {},
   "outputs": [],
   "source": [
    "def getTooMuch():\n",
    "    with open(\"Made By Bailey - Customer Engagement Analysis.csv\") as csvFile:\n",
    "        openCSV = csv.reader(csvFile, delimiter= ',')\n",
    "        next(openCSV)\n",
    "        totalPeople = 0\n",
    "        totalAnswers = 0\n",
    "\n",
    "        for row in openCSV:\n",
    "            totalPeople = totalPeople + 1  \n",
    "            answer = row[10].strip()\n",
    "            if answer == \"That is too much\":\n",
    "                totalAnswers = totalAnswers + 1\n",
    "\n",
    "    return (totalAnswers/totalPeople) * 100"
   ]
  },
  {
   "cell_type": "code",
   "execution_count": null,
   "metadata": {},
   "outputs": [],
   "source": [
    "def getTooLittle():\n",
    "    with open(\"Made By Bailey - Customer Engagement Analysis.csv\") as csvFile:\n",
    "        openCSV = csv.reader(csvFile, delimiter= ',')\n",
    "        next(openCSV)\n",
    "        totalPeople = 0\n",
    "        totalAnswers = 0\n",
    "\n",
    "        for row in openCSV:\n",
    "            totalPeople = totalPeople + 1  \n",
    "            answer = row[10].strip()\n",
    "            if answer == \"That is too little\":\n",
    "                totalAnswers = totalAnswers + 1\n",
    "\n",
    "    return (totalAnswers/totalPeople) * 100"
   ]
  },
  {
   "cell_type": "code",
   "execution_count": null,
   "metadata": {},
   "outputs": [],
   "source": [
    "def getGoodPrice():\n",
    "    with open(\"Made By Bailey - Customer Engagement Analysis.csv\") as csvFile:\n",
    "        openCSV = csv.reader(csvFile, delimiter= ',')\n",
    "        next(openCSV)\n",
    "        totalPeople = 0\n",
    "        totalAnswers = 0\n",
    "\n",
    "        for row in openCSV:\n",
    "            totalPeople = totalPeople + 1  \n",
    "            answer = row[10].strip()\n",
    "            if answer == \"That sounds like a good price\":\n",
    "                totalAnswers = totalAnswers + 1\n",
    "\n",
    "    return (totalAnswers/totalPeople) * 100"
   ]
  },
  {
   "cell_type": "markdown",
   "metadata": {},
   "source": [
    "Answer Question 9"
   ]
  },
  {
   "cell_type": "code",
   "execution_count": null,
   "metadata": {},
   "outputs": [
    {
     "name": "stdout",
     "output_type": "stream",
     "text": [
      "7.142857142857142\n"
     ]
    }
   ],
   "source": [
    "print(getTooMuch())"
   ]
  },
  {
   "cell_type": "markdown",
   "metadata": {},
   "source": [
    "Answer Question 9"
   ]
  },
  {
   "cell_type": "code",
   "execution_count": null,
   "metadata": {},
   "outputs": [
    {
     "name": "stdout",
     "output_type": "stream",
     "text": [
      "21.428571428571427\n"
     ]
    }
   ],
   "source": [
    "print(getTooLittle())"
   ]
  },
  {
   "cell_type": "markdown",
   "metadata": {},
   "source": [
    "Answer Question 9"
   ]
  },
  {
   "cell_type": "code",
   "execution_count": null,
   "metadata": {},
   "outputs": [
    {
     "name": "stdout",
     "output_type": "stream",
     "text": [
      "71.42857142857143\n"
     ]
    }
   ],
   "source": [
    "print(getGoodPrice())"
   ]
  },
  {
   "cell_type": "markdown",
   "metadata": {},
   "source": [
    "Question 10: What are the percentages for what matters most ot the customers?"
   ]
  },
  {
   "cell_type": "code",
   "execution_count": null,
   "metadata": {},
   "outputs": [],
   "source": [
    "def getQuality():\n",
    "    with open(\"Made By Bailey - Customer Engagement Analysis.csv\") as csvFile:\n",
    "        openCSV = csv.reader(csvFile, delimiter= ',')\n",
    "        next(openCSV)\n",
    "        totalPeople = 0\n",
    "        totalAnswers = 0\n",
    "\n",
    "        for row in openCSV:\n",
    "            totalPeople = totalPeople + 1  \n",
    "            answer = row[11].strip()\n",
    "            if answer == \"Quality\":\n",
    "                totalAnswers = totalAnswers + 1\n",
    "\n",
    "    return (totalAnswers/totalPeople) * 100"
   ]
  },
  {
   "cell_type": "code",
   "execution_count": null,
   "metadata": {},
   "outputs": [],
   "source": [
    "def getCreativeness():\n",
    "    with open(\"Made By Bailey - Customer Engagement Analysis.csv\") as csvFile:\n",
    "        openCSV = csv.reader(csvFile, delimiter= ',')\n",
    "        next(openCSV)\n",
    "        totalPeople = 0\n",
    "        totalAnswers = 0\n",
    "\n",
    "        for row in openCSV:\n",
    "            totalPeople = totalPeople + 1  \n",
    "            answer = row[11].strip()\n",
    "            if answer == \"Creativeness\":\n",
    "                totalAnswers = totalAnswers + 1\n",
    "\n",
    "    return (totalAnswers/totalPeople) * 100"
   ]
  },
  {
   "cell_type": "code",
   "execution_count": null,
   "metadata": {},
   "outputs": [],
   "source": [
    "def getFunctionality():\n",
    "    with open(\"Made By Bailey - Customer Engagement Analysis.csv\") as csvFile:\n",
    "        openCSV = csv.reader(csvFile, delimiter= ',')\n",
    "        next(openCSV)\n",
    "        totalPeople = 0\n",
    "        totalAnswers = 0\n",
    "\n",
    "        for row in openCSV:\n",
    "            totalPeople = totalPeople + 1  \n",
    "            answer = row[11].strip()\n",
    "            if answer == \"Functionality\":\n",
    "                totalAnswers = totalAnswers + 1\n",
    "\n",
    "    return (totalAnswers/totalPeople) * 100"
   ]
  },
  {
   "cell_type": "code",
   "execution_count": null,
   "metadata": {},
   "outputs": [],
   "source": [
    "def getPackaging():\n",
    "    with open(\"Made By Bailey - Customer Engagement Analysis.csv\") as csvFile:\n",
    "        openCSV = csv.reader(csvFile, delimiter= ',')\n",
    "        next(openCSV)\n",
    "        totalPeople = 0\n",
    "        totalAnswers = 0\n",
    "\n",
    "        for row in openCSV:\n",
    "            totalPeople = totalPeople + 1  \n",
    "            answer = row[11].strip()\n",
    "            if answer == \"Packaging\":\n",
    "                totalAnswers = totalAnswers + 1\n",
    "\n",
    "    return (totalAnswers/totalPeople) * 100"
   ]
  },
  {
   "cell_type": "code",
   "execution_count": null,
   "metadata": {},
   "outputs": [],
   "source": [
    "def getAesthetics():\n",
    "    with open(\"Made By Bailey - Customer Engagement Analysis.csv\") as csvFile:\n",
    "        openCSV = csv.reader(csvFile, delimiter= ',')\n",
    "        next(openCSV)\n",
    "        totalPeople = 0\n",
    "        totalAnswers = 0\n",
    "\n",
    "        for row in openCSV:\n",
    "            totalPeople = totalPeople + 1  \n",
    "            answer = row[11].strip()\n",
    "            if answer == \"Aesthetics\":\n",
    "                totalAnswers = totalAnswers + 1\n",
    "\n",
    "    return (totalAnswers/totalPeople) * 100"
   ]
  },
  {
   "cell_type": "code",
   "execution_count": null,
   "metadata": {},
   "outputs": [],
   "source": [
    "def getAllOptions():\n",
    "    with open(\"Made By Bailey - Customer Engagement Analysis.csv\") as csvFile:\n",
    "        openCSV = csv.reader(csvFile, delimiter= ',')\n",
    "        next(openCSV)\n",
    "        totalPeople = 0\n",
    "        totalAnswers = 0\n",
    "\n",
    "        for row in openCSV:\n",
    "            totalPeople = totalPeople + 1  \n",
    "            answer = row[11].strip()\n",
    "            if answer == \"All of the above\":\n",
    "                totalAnswers = totalAnswers + 1\n",
    "\n",
    "    return (totalAnswers/totalPeople) * 100"
   ]
  },
  {
   "cell_type": "markdown",
   "metadata": {},
   "source": [
    "Answer Question 10"
   ]
  },
  {
   "cell_type": "code",
   "execution_count": null,
   "metadata": {},
   "outputs": [
    {
     "name": "stdout",
     "output_type": "stream",
     "text": [
      "35.714285714285715\n"
     ]
    }
   ],
   "source": [
    "print(getQuality())"
   ]
  },
  {
   "cell_type": "markdown",
   "metadata": {},
   "source": [
    "Answer Question 10"
   ]
  },
  {
   "cell_type": "code",
   "execution_count": null,
   "metadata": {},
   "outputs": [
    {
     "name": "stdout",
     "output_type": "stream",
     "text": [
      "7.142857142857142\n"
     ]
    }
   ],
   "source": [
    "print(getCreativeness())"
   ]
  },
  {
   "cell_type": "markdown",
   "metadata": {},
   "source": [
    "Answer Question 10"
   ]
  },
  {
   "cell_type": "code",
   "execution_count": null,
   "metadata": {},
   "outputs": [
    {
     "name": "stdout",
     "output_type": "stream",
     "text": [
      "0.0\n"
     ]
    }
   ],
   "source": [
    "print(getFunctionality())"
   ]
  },
  {
   "cell_type": "markdown",
   "metadata": {},
   "source": [
    "Answer Question 10"
   ]
  },
  {
   "cell_type": "code",
   "execution_count": null,
   "metadata": {},
   "outputs": [
    {
     "name": "stdout",
     "output_type": "stream",
     "text": [
      "0.0\n"
     ]
    }
   ],
   "source": [
    "print(getPackaging())"
   ]
  },
  {
   "cell_type": "markdown",
   "metadata": {},
   "source": [
    "Answer Question 10"
   ]
  },
  {
   "cell_type": "code",
   "execution_count": null,
   "metadata": {},
   "outputs": [
    {
     "name": "stdout",
     "output_type": "stream",
     "text": [
      "21.428571428571427\n"
     ]
    }
   ],
   "source": [
    "print(getAesthetics())"
   ]
  },
  {
   "cell_type": "markdown",
   "metadata": {},
   "source": [
    "Answer Question 10"
   ]
  },
  {
   "cell_type": "code",
   "execution_count": null,
   "metadata": {},
   "outputs": [
    {
     "name": "stdout",
     "output_type": "stream",
     "text": [
      "35.714285714285715\n"
     ]
    }
   ],
   "source": [
    "print(getAllOptions())"
   ]
  },
  {
   "cell_type": "markdown",
   "metadata": {},
   "source": [
    "Question 11: What are the percentages for what customers value about price?"
   ]
  },
  {
   "cell_type": "code",
   "execution_count": null,
   "metadata": {},
   "outputs": [],
   "source": [
    "def getCarefulSpending():\n",
    "    with open(\"Made By Bailey - Customer Engagement Analysis.csv\") as csvFile:\n",
    "        openCSV = csv.reader(csvFile, delimiter= ',')\n",
    "        next(openCSV)\n",
    "        totalPeople = 0\n",
    "        totalAnswers = 0\n",
    "\n",
    "        for row in openCSV:\n",
    "            totalPeople = totalPeople + 1  \n",
    "            answer = row[12].strip()\n",
    "            if answer == \"I am careful about what I spend my money on\":\n",
    "                totalAnswers = totalAnswers + 1\n",
    "\n",
    "    return (totalAnswers/totalPeople) * 100"
   ]
  },
  {
   "cell_type": "code",
   "execution_count": null,
   "metadata": {},
   "outputs": [],
   "source": [
    "def getEqualPrice():\n",
    "    with open(\"Made By Bailey - Customer Engagement Analysis.csv\") as csvFile:\n",
    "        openCSV = csv.reader(csvFile, delimiter= ',')\n",
    "        next(openCSV)\n",
    "        totalPeople = 0\n",
    "        totalAnswers = 0\n",
    "\n",
    "        for row in openCSV:\n",
    "            totalPeople = totalPeople + 1  \n",
    "            answer = row[12].strip()\n",
    "            if answer == \"I believe the price must be equal to the quality\":\n",
    "                totalAnswers = totalAnswers + 1\n",
    "\n",
    "    return (totalAnswers/totalPeople) * 100"
   ]
  },
  {
   "cell_type": "code",
   "execution_count": null,
   "metadata": {},
   "outputs": [],
   "source": [
    "def getValueArtist():\n",
    "    with open(\"Made By Bailey - Customer Engagement Analysis.csv\") as csvFile:\n",
    "        openCSV = csv.reader(csvFile, delimiter= ',')\n",
    "        next(openCSV)\n",
    "        totalPeople = 0\n",
    "        totalAnswers = 0\n",
    "\n",
    "        for row in openCSV:\n",
    "            totalPeople = totalPeople + 1  \n",
    "            answer = row[12].strip()\n",
    "            if answer == \"I believe it is important for artist to value their work accordingly\":\n",
    "                totalAnswers = totalAnswers + 1\n",
    "\n",
    "    return (totalAnswers/totalPeople) * 100"
   ]
  },
  {
   "cell_type": "markdown",
   "metadata": {},
   "source": [
    "Answer Question 11"
   ]
  },
  {
   "cell_type": "code",
   "execution_count": null,
   "metadata": {},
   "outputs": [
    {
     "name": "stdout",
     "output_type": "stream",
     "text": [
      "35.714285714285715\n"
     ]
    }
   ],
   "source": [
    "print(getCarefulSpending())"
   ]
  },
  {
   "cell_type": "markdown",
   "metadata": {},
   "source": [
    "Answer Question 11"
   ]
  },
  {
   "cell_type": "code",
   "execution_count": null,
   "metadata": {},
   "outputs": [
    {
     "name": "stdout",
     "output_type": "stream",
     "text": [
      "35.714285714285715\n"
     ]
    }
   ],
   "source": [
    "print(getEqualPrice())"
   ]
  },
  {
   "cell_type": "markdown",
   "metadata": {},
   "source": [
    "Answer Question 11"
   ]
  },
  {
   "cell_type": "code",
   "execution_count": null,
   "metadata": {},
   "outputs": [
    {
     "name": "stdout",
     "output_type": "stream",
     "text": [
      "21.428571428571427\n"
     ]
    }
   ],
   "source": [
    "print(getValueArtist())"
   ]
  },
  {
   "cell_type": "markdown",
   "metadata": {},
   "source": [
    "Question 12: What are the percentages for the reason people choose to purchase online or in-person?"
   ]
  },
  {
   "cell_type": "code",
   "execution_count": null,
   "metadata": {},
   "outputs": [],
   "source": [
    "def getInPersonConvenient():\n",
    "    with open(\"Made By Bailey - Customer Engagement Analysis.csv\") as csvFile:\n",
    "        openCSV = csv.reader(csvFile, delimiter= ',')\n",
    "        next(openCSV)\n",
    "        totalPeople = 0\n",
    "        totalAnswers = 0\n",
    "\n",
    "        for row in openCSV:\n",
    "            totalPeople = totalPeople + 1  \n",
    "            answer = row[13].strip()\n",
    "            if answer == \"In-person because it is more convenient\":\n",
    "                totalAnswers = totalAnswers + 1\n",
    "\n",
    "    return (totalAnswers/totalPeople) * 100"
   ]
  },
  {
   "cell_type": "code",
   "execution_count": null,
   "metadata": {},
   "outputs": [],
   "source": [
    "def getInPersonViewProduct():\n",
    "    with open(\"Made By Bailey - Customer Engagement Analysis.csv\") as csvFile:\n",
    "        openCSV = csv.reader(csvFile, delimiter= ',')\n",
    "        next(openCSV)\n",
    "        totalPeople = 0\n",
    "        totalAnswers = 0\n",
    "\n",
    "        for row in openCSV:\n",
    "            totalPeople = totalPeople + 1  \n",
    "            answer = row[13].strip()\n",
    "            if answer == \"In-person because I can see the product before I purchase it\":\n",
    "                totalAnswers = totalAnswers + 1\n",
    "\n",
    "    return (totalAnswers/totalPeople) * 100"
   ]
  },
  {
   "cell_type": "code",
   "execution_count": null,
   "metadata": {},
   "outputs": [],
   "source": [
    "def getInPersonMeetArtist():\n",
    "    with open(\"Made By Bailey - Customer Engagement Analysis.csv\") as csvFile:\n",
    "        openCSV = csv.reader(csvFile, delimiter= ',')\n",
    "        next(openCSV)\n",
    "        totalPeople = 0\n",
    "        totalAnswers = 0\n",
    "\n",
    "        for row in openCSV:\n",
    "            totalPeople = totalPeople + 1  \n",
    "            answer = row[13].strip()\n",
    "            if answer == \"In-person because I can meet the person who created it\":\n",
    "                totalAnswers = totalAnswers + 1\n",
    "\n",
    "    return (totalAnswers/totalPeople) * 100"
   ]
  },
  {
   "cell_type": "code",
   "execution_count": null,
   "metadata": {},
   "outputs": [],
   "source": [
    "def getOnlineConvienient():\n",
    "    with open(\"Made By Bailey - Customer Engagement Analysis.csv\") as csvFile:\n",
    "        openCSV = csv.reader(csvFile, delimiter= ',')\n",
    "        next(openCSV)\n",
    "        totalPeople = 0\n",
    "        totalAnswers = 0\n",
    "\n",
    "        for row in openCSV:\n",
    "            totalPeople = totalPeople + 1  \n",
    "            answer = row[13].strip()\n",
    "            if answer == \"Online because it is more convenient\":\n",
    "                totalAnswers = totalAnswers + 1\n",
    "\n",
    "    return (totalAnswers/totalPeople) * 100"
   ]
  },
  {
   "cell_type": "code",
   "execution_count": null,
   "metadata": {},
   "outputs": [],
   "source": [
    "def getOnlineSavesTime():\n",
    "    with open(\"Made By Bailey - Customer Engagement Analysis.csv\") as csvFile:\n",
    "        openCSV = csv.reader(csvFile, delimiter= ',')\n",
    "        next(openCSV)\n",
    "        totalPeople = 0\n",
    "        totalAnswers = 0\n",
    "\n",
    "        for row in openCSV:\n",
    "            totalPeople = totalPeople + 1  \n",
    "            answer = row[13].strip()\n",
    "            if answer == \"Online because it saves time\":\n",
    "                totalAnswers = totalAnswers + 1\n",
    "\n",
    "    return (totalAnswers/totalPeople) * 100"
   ]
  },
  {
   "cell_type": "code",
   "execution_count": null,
   "metadata": {},
   "outputs": [],
   "source": [
    "def getOnlineNormalShop():\n",
    "    with open(\"Made By Bailey - Customer Engagement Analysis.csv\") as csvFile:\n",
    "        openCSV = csv.reader(csvFile, delimiter= ',')\n",
    "        next(openCSV)\n",
    "        totalPeople = 0\n",
    "        totalAnswers = 0\n",
    "\n",
    "        for row in openCSV:\n",
    "            totalPeople = totalPeople + 1  \n",
    "            answer = row[13].strip()\n",
    "            if answer == \"Online because I normally shop online\":\n",
    "                totalAnswers = totalAnswers + 1\n",
    "\n",
    "    return (totalAnswers/totalPeople) * 100"
   ]
  },
  {
   "cell_type": "code",
   "execution_count": null,
   "metadata": {},
   "outputs": [],
   "source": [
    "def getOnlineConsiderOther():\n",
    "    with open(\"Made By Bailey - Customer Engagement Analysis.csv\") as csvFile:\n",
    "        openCSV = csv.reader(csvFile, delimiter= ',')\n",
    "        next(openCSV)\n",
    "        totalPeople = 0\n",
    "        totalAnswers = 0\n",
    "\n",
    "        for row in openCSV:\n",
    "            totalPeople = totalPeople + 1  \n",
    "            answer = row[13].strip()\n",
    "            if answer == \"Online because I can consider other products\":\n",
    "                totalAnswers = totalAnswers + 1\n",
    "\n",
    "    return (totalAnswers/totalPeople) * 100"
   ]
  },
  {
   "cell_type": "markdown",
   "metadata": {},
   "source": [
    "Answer Question 12"
   ]
  },
  {
   "cell_type": "code",
   "execution_count": null,
   "metadata": {},
   "outputs": [
    {
     "name": "stdout",
     "output_type": "stream",
     "text": [
      "0.0\n"
     ]
    }
   ],
   "source": [
    "print(getInPersonConvenient())"
   ]
  },
  {
   "cell_type": "markdown",
   "metadata": {},
   "source": [
    "Answer Question 12"
   ]
  },
  {
   "cell_type": "code",
   "execution_count": null,
   "metadata": {},
   "outputs": [
    {
     "name": "stdout",
     "output_type": "stream",
     "text": [
      "52.17391304347826\n"
     ]
    }
   ],
   "source": [
    "print(getInPersonViewProduct())"
   ]
  },
  {
   "cell_type": "markdown",
   "metadata": {},
   "source": [
    "Answer Question 12"
   ]
  },
  {
   "cell_type": "code",
   "execution_count": null,
   "metadata": {},
   "outputs": [
    {
     "name": "stdout",
     "output_type": "stream",
     "text": [
      "8.695652173913043\n"
     ]
    }
   ],
   "source": [
    "print(getInPersonMeetArtist())"
   ]
  },
  {
   "cell_type": "markdown",
   "metadata": {},
   "source": [
    "Answer Question 12"
   ]
  },
  {
   "cell_type": "code",
   "execution_count": null,
   "metadata": {},
   "outputs": [
    {
     "name": "stdout",
     "output_type": "stream",
     "text": [
      "26.08695652173913\n"
     ]
    }
   ],
   "source": [
    "print(getOnlineConvienient())"
   ]
  },
  {
   "cell_type": "markdown",
   "metadata": {},
   "source": [
    "Answer Question 12"
   ]
  },
  {
   "cell_type": "code",
   "execution_count": null,
   "metadata": {},
   "outputs": [
    {
     "name": "stdout",
     "output_type": "stream",
     "text": [
      "0.0\n"
     ]
    }
   ],
   "source": [
    "print(getOnlineSavesTime())"
   ]
  },
  {
   "cell_type": "markdown",
   "metadata": {},
   "source": [
    "Answer Question 12"
   ]
  },
  {
   "cell_type": "code",
   "execution_count": null,
   "metadata": {},
   "outputs": [
    {
     "name": "stdout",
     "output_type": "stream",
     "text": [
      "4.3478260869565215\n"
     ]
    }
   ],
   "source": [
    "print(getOnlineNormalShop())"
   ]
  },
  {
   "cell_type": "markdown",
   "metadata": {},
   "source": [
    "Answer Question 12"
   ]
  },
  {
   "cell_type": "code",
   "execution_count": null,
   "metadata": {},
   "outputs": [
    {
     "name": "stdout",
     "output_type": "stream",
     "text": [
      "0.0\n"
     ]
    }
   ],
   "source": [
    "print(getOnlineConsiderOther())"
   ]
  }
 ],
 "metadata": {
  "kernelspec": {
   "display_name": "base",
   "language": "python",
   "name": "python3"
  },
  "language_info": {
   "codemirror_mode": {
    "name": "ipython",
    "version": 3
   },
   "file_extension": ".py",
   "mimetype": "text/x-python",
   "name": "python",
   "nbconvert_exporter": "python",
   "pygments_lexer": "ipython3",
   "version": "3.11.5"
  }
 },
 "nbformat": 4,
 "nbformat_minor": 2
}
